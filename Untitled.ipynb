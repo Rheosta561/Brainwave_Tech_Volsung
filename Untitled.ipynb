{
 "cells": [
  {
   "cell_type": "code",
   "execution_count": 1,
   "id": "59e79faf-b362-45eb-b96e-21ed6e701ee7",
   "metadata": {},
   "outputs": [],
   "source": [
    "import numpy as np\n",
    "import pandas as pd"
   ]
  },
  {
   "cell_type": "code",
   "execution_count": 2,
   "id": "8b42b428-feaf-450f-a3b4-ec41d1e167ad",
   "metadata": {},
   "outputs": [],
   "source": [
    "from datasets import load_dataset"
   ]
  },
  {
   "cell_type": "code",
   "execution_count": 3,
   "id": "c0e87873-0472-4769-b22d-10e2f578e89b",
   "metadata": {},
   "outputs": [],
   "source": [
    "ds = load_dataset(\"Jillian/Depression_Detection_Kaggle_train\")"
   ]
  },
  {
   "cell_type": "code",
   "execution_count": 4,
   "id": "f9af2d7b-f43b-4c69-be4a-f66489f0906b",
   "metadata": {},
   "outputs": [
    {
     "data": {
      "text/plain": [
       "DatasetDict({\n",
       "    train: Dataset({\n",
       "        features: ['output', 'instruction', 'input'],\n",
       "        num_rows: 22381\n",
       "    })\n",
       "})"
      ]
     },
     "execution_count": 4,
     "metadata": {},
     "output_type": "execute_result"
    }
   ],
   "source": [
    "ds"
   ]
  },
  {
   "cell_type": "code",
   "execution_count": 6,
   "id": "6af744ef-d61e-4c6e-88c9-a37185b0fdb2",
   "metadata": {},
   "outputs": [
    {
     "data": {
      "text/plain": [
       "Dataset({\n",
       "    features: ['output', 'instruction', 'input'],\n",
       "    num_rows: 22381\n",
       "})"
      ]
     },
     "execution_count": 6,
     "metadata": {},
     "output_type": "execute_result"
    }
   ],
   "source": [
    "ds['train']"
   ]
  },
  {
   "cell_type": "code",
   "execution_count": 9,
   "id": "a37e676e-f477-4b00-9306-14c7cd7ba148",
   "metadata": {},
   "outputs": [
    {
     "data": {
      "text/plain": [
       "22381"
      ]
     },
     "execution_count": 9,
     "metadata": {},
     "output_type": "execute_result"
    }
   ],
   "source": [
    "ds['train'].num_rows"
   ]
  },
  {
   "cell_type": "code",
   "execution_count": 10,
   "id": "e2d0a703-8d57-4130-87f7-a51c95b10ccc",
   "metadata": {},
   "outputs": [
    {
     "data": {
      "text/plain": [
       "Dataset({\n",
       "    features: ['output', 'instruction', 'input'],\n",
       "    num_rows: 22381\n",
       "})"
      ]
     },
     "execution_count": 10,
     "metadata": {},
     "output_type": "execute_result"
    }
   ],
   "source": [
    "ds[\"train\"]"
   ]
  },
  {
   "cell_type": "code",
   "execution_count": 11,
   "id": "388e4e9b-f1df-4d60-9150-542fdfc39792",
   "metadata": {},
   "outputs": [
    {
     "ename": "AttributeError",
     "evalue": "'Dataset' object has no attribute 'describe'",
     "output_type": "error",
     "traceback": [
      "\u001b[1;31m---------------------------------------------------------------------------\u001b[0m",
      "\u001b[1;31mAttributeError\u001b[0m                            Traceback (most recent call last)",
      "Cell \u001b[1;32mIn[11], line 1\u001b[0m\n\u001b[1;32m----> 1\u001b[0m \u001b[43mds\u001b[49m\u001b[43m[\u001b[49m\u001b[38;5;124;43m\"\u001b[39;49m\u001b[38;5;124;43mtrain\u001b[39;49m\u001b[38;5;124;43m\"\u001b[39;49m\u001b[43m]\u001b[49m\u001b[38;5;241;43m.\u001b[39;49m\u001b[43mdescribe\u001b[49m()\n",
      "\u001b[1;31mAttributeError\u001b[0m: 'Dataset' object has no attribute 'describe'"
     ]
    }
   ],
   "source": [
    "ds[\"train\"].describe()"
   ]
  },
  {
   "cell_type": "code",
   "execution_count": 12,
   "id": "ff5154d3-ef53-4b6c-ac2e-e6a13beef71f",
   "metadata": {},
   "outputs": [
    {
     "data": {
      "text/html": [
       "<div>\n",
       "<style scoped>\n",
       "    .dataframe tbody tr th:only-of-type {\n",
       "        vertical-align: middle;\n",
       "    }\n",
       "\n",
       "    .dataframe tbody tr th {\n",
       "        vertical-align: top;\n",
       "    }\n",
       "\n",
       "    .dataframe thead th {\n",
       "        text-align: right;\n",
       "    }\n",
       "</style>\n",
       "<table border=\"1\" class=\"dataframe\">\n",
       "  <thead>\n",
       "    <tr style=\"text-align: right;\">\n",
       "      <th></th>\n",
       "      <th>output</th>\n",
       "      <th>instruction</th>\n",
       "      <th>input</th>\n",
       "    </tr>\n",
       "  </thead>\n",
       "  <tbody>\n",
       "    <tr>\n",
       "      <th>0</th>\n",
       "      <td>depressed</td>\n",
       "      <td>Find whether the text belongs to depressed or ...</td>\n",
       "      <td>even point anymoreeven go feel better  distrac...</td>\n",
       "    </tr>\n",
       "    <tr>\n",
       "      <th>1</th>\n",
       "      <td>depressed</td>\n",
       "      <td>Find whether the text belongs to depressed or ...</td>\n",
       "      <td>im sorry guysive posted lot past everyone real...</td>\n",
       "    </tr>\n",
       "    <tr>\n",
       "      <th>2</th>\n",
       "      <td>normal</td>\n",
       "      <td>Find whether the text belongs to depressed or ...</td>\n",
       "      <td>im love berleezy bro hes literally perfect bro...</td>\n",
       "    </tr>\n",
       "    <tr>\n",
       "      <th>3</th>\n",
       "      <td>depressed</td>\n",
       "      <td>Find whether the text belongs to depressed or ...</td>\n",
       "      <td>well ive hit rock bottom high schoolerthats it...</td>\n",
       "    </tr>\n",
       "    <tr>\n",
       "      <th>4</th>\n",
       "      <td>depressed</td>\n",
       "      <td>Find whether the text belongs to depressed or ...</td>\n",
       "      <td>clarify i never told anyone wanted die them ne...</td>\n",
       "    </tr>\n",
       "    <tr>\n",
       "      <th>...</th>\n",
       "      <td>...</td>\n",
       "      <td>...</td>\n",
       "      <td>...</td>\n",
       "    </tr>\n",
       "    <tr>\n",
       "      <th>22376</th>\n",
       "      <td>depressed</td>\n",
       "      <td>Find whether the text belongs to depressed or ...</td>\n",
       "      <td>im garbage human beingim waste existence oh fu...</td>\n",
       "    </tr>\n",
       "    <tr>\n",
       "      <th>22377</th>\n",
       "      <td>depressed</td>\n",
       "      <td>Find whether the text belongs to depressed or ...</td>\n",
       "      <td>hello new account new me right such think id l...</td>\n",
       "    </tr>\n",
       "    <tr>\n",
       "      <th>22378</th>\n",
       "      <td>depressed</td>\n",
       "      <td>Find whether the text belongs to depressed or ...</td>\n",
       "      <td>depressive moods pushed away loved ones im afr...</td>\n",
       "    </tr>\n",
       "    <tr>\n",
       "      <th>22379</th>\n",
       "      <td>normal</td>\n",
       "      <td>Find whether the text belongs to depressed or ...</td>\n",
       "      <td>smh bad thoughts  probably going delete lmao a...</td>\n",
       "    </tr>\n",
       "    <tr>\n",
       "      <th>22380</th>\n",
       "      <td>normal</td>\n",
       "      <td>Find whether the text belongs to depressed or ...</td>\n",
       "      <td>anyone else go bike rides get away parents bul...</td>\n",
       "    </tr>\n",
       "  </tbody>\n",
       "</table>\n",
       "<p>22381 rows × 3 columns</p>\n",
       "</div>"
      ],
      "text/plain": [
       "          output                                        instruction  \\\n",
       "0      depressed  Find whether the text belongs to depressed or ...   \n",
       "1      depressed  Find whether the text belongs to depressed or ...   \n",
       "2         normal  Find whether the text belongs to depressed or ...   \n",
       "3      depressed  Find whether the text belongs to depressed or ...   \n",
       "4      depressed  Find whether the text belongs to depressed or ...   \n",
       "...          ...                                                ...   \n",
       "22376  depressed  Find whether the text belongs to depressed or ...   \n",
       "22377  depressed  Find whether the text belongs to depressed or ...   \n",
       "22378  depressed  Find whether the text belongs to depressed or ...   \n",
       "22379     normal  Find whether the text belongs to depressed or ...   \n",
       "22380     normal  Find whether the text belongs to depressed or ...   \n",
       "\n",
       "                                                   input  \n",
       "0      even point anymoreeven go feel better  distrac...  \n",
       "1      im sorry guysive posted lot past everyone real...  \n",
       "2      im love berleezy bro hes literally perfect bro...  \n",
       "3      well ive hit rock bottom high schoolerthats it...  \n",
       "4      clarify i never told anyone wanted die them ne...  \n",
       "...                                                  ...  \n",
       "22376  im garbage human beingim waste existence oh fu...  \n",
       "22377  hello new account new me right such think id l...  \n",
       "22378  depressive moods pushed away loved ones im afr...  \n",
       "22379  smh bad thoughts  probably going delete lmao a...  \n",
       "22380  anyone else go bike rides get away parents bul...  \n",
       "\n",
       "[22381 rows x 3 columns]"
      ]
     },
     "execution_count": 12,
     "metadata": {},
     "output_type": "execute_result"
    }
   ],
   "source": [
    "df = pd.DataFrame(ds['train'])\n",
    "df"
   ]
  },
  {
   "cell_type": "code",
   "execution_count": 13,
   "id": "d94184cb-5525-4b97-a931-a63f35f9ac32",
   "metadata": {},
   "outputs": [],
   "source": [
    "df['output'] = df['output'].apply(lambda x: 1 if x == 'depressed' else 0)\n"
   ]
  },
  {
   "cell_type": "code",
   "execution_count": 14,
   "id": "a2f72b15-6964-4cff-b6db-cb922822dcab",
   "metadata": {},
   "outputs": [
    {
     "data": {
      "text/html": [
       "<div>\n",
       "<style scoped>\n",
       "    .dataframe tbody tr th:only-of-type {\n",
       "        vertical-align: middle;\n",
       "    }\n",
       "\n",
       "    .dataframe tbody tr th {\n",
       "        vertical-align: top;\n",
       "    }\n",
       "\n",
       "    .dataframe thead th {\n",
       "        text-align: right;\n",
       "    }\n",
       "</style>\n",
       "<table border=\"1\" class=\"dataframe\">\n",
       "  <thead>\n",
       "    <tr style=\"text-align: right;\">\n",
       "      <th></th>\n",
       "      <th>output</th>\n",
       "      <th>instruction</th>\n",
       "      <th>input</th>\n",
       "    </tr>\n",
       "  </thead>\n",
       "  <tbody>\n",
       "    <tr>\n",
       "      <th>0</th>\n",
       "      <td>1</td>\n",
       "      <td>Find whether the text belongs to depressed or ...</td>\n",
       "      <td>even point anymoreeven go feel better  distrac...</td>\n",
       "    </tr>\n",
       "    <tr>\n",
       "      <th>1</th>\n",
       "      <td>1</td>\n",
       "      <td>Find whether the text belongs to depressed or ...</td>\n",
       "      <td>im sorry guysive posted lot past everyone real...</td>\n",
       "    </tr>\n",
       "    <tr>\n",
       "      <th>2</th>\n",
       "      <td>0</td>\n",
       "      <td>Find whether the text belongs to depressed or ...</td>\n",
       "      <td>im love berleezy bro hes literally perfect bro...</td>\n",
       "    </tr>\n",
       "    <tr>\n",
       "      <th>3</th>\n",
       "      <td>1</td>\n",
       "      <td>Find whether the text belongs to depressed or ...</td>\n",
       "      <td>well ive hit rock bottom high schoolerthats it...</td>\n",
       "    </tr>\n",
       "    <tr>\n",
       "      <th>4</th>\n",
       "      <td>1</td>\n",
       "      <td>Find whether the text belongs to depressed or ...</td>\n",
       "      <td>clarify i never told anyone wanted die them ne...</td>\n",
       "    </tr>\n",
       "    <tr>\n",
       "      <th>...</th>\n",
       "      <td>...</td>\n",
       "      <td>...</td>\n",
       "      <td>...</td>\n",
       "    </tr>\n",
       "    <tr>\n",
       "      <th>22376</th>\n",
       "      <td>1</td>\n",
       "      <td>Find whether the text belongs to depressed or ...</td>\n",
       "      <td>im garbage human beingim waste existence oh fu...</td>\n",
       "    </tr>\n",
       "    <tr>\n",
       "      <th>22377</th>\n",
       "      <td>1</td>\n",
       "      <td>Find whether the text belongs to depressed or ...</td>\n",
       "      <td>hello new account new me right such think id l...</td>\n",
       "    </tr>\n",
       "    <tr>\n",
       "      <th>22378</th>\n",
       "      <td>1</td>\n",
       "      <td>Find whether the text belongs to depressed or ...</td>\n",
       "      <td>depressive moods pushed away loved ones im afr...</td>\n",
       "    </tr>\n",
       "    <tr>\n",
       "      <th>22379</th>\n",
       "      <td>0</td>\n",
       "      <td>Find whether the text belongs to depressed or ...</td>\n",
       "      <td>smh bad thoughts  probably going delete lmao a...</td>\n",
       "    </tr>\n",
       "    <tr>\n",
       "      <th>22380</th>\n",
       "      <td>0</td>\n",
       "      <td>Find whether the text belongs to depressed or ...</td>\n",
       "      <td>anyone else go bike rides get away parents bul...</td>\n",
       "    </tr>\n",
       "  </tbody>\n",
       "</table>\n",
       "<p>22381 rows × 3 columns</p>\n",
       "</div>"
      ],
      "text/plain": [
       "       output                                        instruction  \\\n",
       "0           1  Find whether the text belongs to depressed or ...   \n",
       "1           1  Find whether the text belongs to depressed or ...   \n",
       "2           0  Find whether the text belongs to depressed or ...   \n",
       "3           1  Find whether the text belongs to depressed or ...   \n",
       "4           1  Find whether the text belongs to depressed or ...   \n",
       "...       ...                                                ...   \n",
       "22376       1  Find whether the text belongs to depressed or ...   \n",
       "22377       1  Find whether the text belongs to depressed or ...   \n",
       "22378       1  Find whether the text belongs to depressed or ...   \n",
       "22379       0  Find whether the text belongs to depressed or ...   \n",
       "22380       0  Find whether the text belongs to depressed or ...   \n",
       "\n",
       "                                                   input  \n",
       "0      even point anymoreeven go feel better  distrac...  \n",
       "1      im sorry guysive posted lot past everyone real...  \n",
       "2      im love berleezy bro hes literally perfect bro...  \n",
       "3      well ive hit rock bottom high schoolerthats it...  \n",
       "4      clarify i never told anyone wanted die them ne...  \n",
       "...                                                  ...  \n",
       "22376  im garbage human beingim waste existence oh fu...  \n",
       "22377  hello new account new me right such think id l...  \n",
       "22378  depressive moods pushed away loved ones im afr...  \n",
       "22379  smh bad thoughts  probably going delete lmao a...  \n",
       "22380  anyone else go bike rides get away parents bul...  \n",
       "\n",
       "[22381 rows x 3 columns]"
      ]
     },
     "execution_count": 14,
     "metadata": {},
     "output_type": "execute_result"
    }
   ],
   "source": [
    "df"
   ]
  },
  {
   "cell_type": "code",
   "execution_count": null,
   "id": "1115f64f-c574-4e82-a2fc-a1aa1c4f96ca",
   "metadata": {},
   "outputs": [],
   "source": []
  }
 ],
 "metadata": {
  "kernelspec": {
   "display_name": "Python 3 (ipykernel)",
   "language": "python",
   "name": "python3"
  },
  "language_info": {
   "codemirror_mode": {
    "name": "ipython",
    "version": 3
   },
   "file_extension": ".py",
   "mimetype": "text/x-python",
   "name": "python",
   "nbconvert_exporter": "python",
   "pygments_lexer": "ipython3",
   "version": "3.11.5"
  }
 },
 "nbformat": 4,
 "nbformat_minor": 5
}
